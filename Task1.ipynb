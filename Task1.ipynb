{
 "cells": [
  {
   "cell_type": "code",
   "execution_count": 3,
   "id": "1e306cb9",
   "metadata": {},
   "outputs": [
    {
     "name": "stdout",
     "output_type": "stream",
     "text": [
      "Requirement already satisfied: requests in c:\\users\\admin\\appdata\\roaming\\python\\python39\\site-packages (2.28.2)\n",
      "Requirement already satisfied: charset-normalizer<4,>=2 in c:\\users\\admin\\appdata\\roaming\\python\\python39\\site-packages (from requests) (3.0.1)\n",
      "Requirement already satisfied: urllib3<1.27,>=1.21.1 in c:\\users\\admin\\appdata\\roaming\\python\\python39\\site-packages (from requests) (1.26.14)\n",
      "Requirement already satisfied: idna<4,>=2.5 in c:\\users\\admin\\appdata\\roaming\\python\\python39\\site-packages (from requests) (3.4)\n",
      "Requirement already satisfied: certifi>=2017.4.17 in c:\\users\\admin\\appdata\\roaming\\python\\python39\\site-packages (from requests) (2022.12.7)\n"
     ]
    }
   ],
   "source": [
    "!pip install requests"
   ]
  },
  {
   "cell_type": "code",
   "execution_count": 4,
   "id": "2efc4255",
   "metadata": {},
   "outputs": [],
   "source": [
    "import requests\n",
    "import pandas as pd\n",
    "import matplotlib.pyplot as plt\n"
   ]
  },
  {
   "cell_type": "code",
   "execution_count": 6,
   "id": "5f56546d",
   "metadata": {},
   "outputs": [],
   "source": [
    "CITIES = [ \n",
    "    \"New York\", \"London\", \"Tokyo\", \"Mumbai\", \"Sydney\", \"Paris\", \"Berlin\", \"Dubai\",\n",
    "    \"Singapore\", \"Los Angeles\", \"Toronto\", \"Hong Kong\", \"Chicago\", \"Shanghai\", \"Moscow\",\n",
    "    \"São Paulo\", \"Seoul\", \"Bangkok\", \"Jakarta\", \"Mexico City\", \"Istanbul\", \"Delhi\",\n",
    "    \"Rome\", \"Barcelona\", \"San Francisco\", \"Kuala Lumpur\", \"Buenos Aires\", \"Beijing\",\n",
    "    \"Cairo\", \"Cape Town\", \"Madrid\", \"Vienna\", \"Amsterdam\", \"Zurich\", \"Brussels\",\n",
    "    \"Lagos\", \"Manila\", \"Stockholm\", \"Rio de Janeiro\", \"Bogotá\", \"Johannesburg\",\n",
    "    \"Hanoi\", \"Warsaw\", \"Munich\", \"Dublin\", \"Prague\", \"Osaka\", \"Melbourne\", \"Lisbon\"\n",
    "]"
   ]
  },
  {
   "cell_type": "code",
   "execution_count": 9,
   "id": "d0df45ec",
   "metadata": {},
   "outputs": [],
   "source": [
    "def get_lat_lon(city):\n",
    "    geo_url = f\"https://geocoding-api.open-meteo.com/v1/search?name={city}&count=1\"\n",
    "    response = requests.get(geo_url)\n",
    "    \n",
    "    if response.status_code == 200 and response.json().get(\"results\"):\n",
    "        location = response.json()[\"results\"][0]\n",
    "        return location[\"latitude\"], location[\"longitude\"]\n",
    "    \n",
    "    print(f\"Could not find coordinates for {city}\")\n",
    "    return None, None"
   ]
  },
  {
   "cell_type": "code",
   "execution_count": 10,
   "id": "9697d22e",
   "metadata": {},
   "outputs": [],
   "source": [
    "def get_weather_data(city):\n",
    "    lat, lon = get_lat_lon(city)\n",
    "    if lat is None or lon is None:\n",
    "        return None\n",
    "\n",
    "    weather_url = f\"https://api.open-meteo.com/v1/forecast?latitude={lat}&longitude={lon}&current_weather=true\"\n",
    "    response = requests.get(weather_url)\n",
    "\n",
    "    if response.status_code == 200:\n",
    "        data = response.json()\n",
    "        return {\n",
    "            \"City\": city,\n",
    "            \"Temperature\": data[\"current_weather\"][\"temperature\"]\n",
    "        }\n",
    "    \n",
    "    print(f\"Failed to get data for {city}\")\n",
    "    return None"
   ]
  },
  {
   "cell_type": "code",
   "execution_count": 11,
   "id": "82bd3009",
   "metadata": {},
   "outputs": [],
   "source": [
    "data_list = [get_weather_data(city) for city in CITIES]\n",
    "data_list = [data for data in data_list if data]"
   ]
  },
  {
   "cell_type": "code",
   "execution_count": 15,
   "id": "4911febc",
   "metadata": {},
   "outputs": [
    {
     "name": "stdout",
     "output_type": "stream",
     "text": [
      "              City  Temperature\n",
      "0         New York         -6.8\n",
      "1           London         12.4\n",
      "2            Tokyo          2.2\n",
      "3           Mumbai         29.2\n",
      "4           Sydney         19.2\n",
      "5            Paris         12.2\n",
      "6           Berlin          1.5\n",
      "7            Dubai         25.7\n",
      "8        Singapore         27.2\n",
      "9      Los Angeles         10.3\n",
      "10         Toronto        -12.8\n",
      "11       Hong Kong         17.0\n",
      "12         Chicago        -15.5\n",
      "13        Shanghai          5.3\n",
      "14          Moscow         -6.1\n",
      "15       São Paulo         28.1\n",
      "16           Seoul         -5.2\n",
      "17         Bangkok         29.1\n",
      "18         Jakarta         27.3\n",
      "19     Mexico City         12.1\n",
      "20        Istanbul          2.9\n",
      "21           Delhi         19.6\n",
      "22            Rome         12.8\n",
      "23       Barcelona         13.8\n",
      "24   San Francisco          8.2\n",
      "25    Kuala Lumpur         27.8\n",
      "26    Buenos Aires         25.9\n",
      "27         Beijing          0.8\n",
      "28           Cairo         20.1\n",
      "29       Cape Town         31.1\n",
      "30          Madrid         16.1\n",
      "31          Vienna          4.0\n",
      "32       Amsterdam          8.6\n",
      "33          Zurich          9.2\n",
      "34        Brussels         11.5\n",
      "35           Lagos         32.2\n",
      "36          Manila         26.0\n",
      "37       Stockholm          2.2\n",
      "38  Rio de Janeiro         33.0\n",
      "39          Bogotá         13.2\n",
      "40    Johannesburg         20.2\n",
      "41           Hanoi         19.7\n",
      "42          Warsaw          1.3\n",
      "43          Munich          9.4\n",
      "44          Dublin         14.3\n",
      "45          Prague          0.8\n",
      "46           Osaka          2.0\n",
      "47       Melbourne         15.6\n",
      "48          Lisbon         17.1\n"
     ]
    }
   ],
   "source": [
    "df = pd.DataFrame(data_list)\n",
    "print(df)"
   ]
  },
  {
   "cell_type": "code",
   "execution_count": 16,
   "id": "a2b7c30b",
   "metadata": {},
   "outputs": [],
   "source": [
    "top_10_hottest = df.nlargest(10, \"Temperature\")\n",
    "top_10_coldest = df.nsmallest(10, \"Temperature\")"
   ]
  },
  {
   "cell_type": "code",
   "execution_count": 21,
   "id": "27a56085",
   "metadata": {},
   "outputs": [
    {
     "data": {
      "image/png": "[encoded data removed]",
      "text/plain": [
       "<Figure size 720x360 with 1 Axes>"
      ]
     },
     "metadata": {
      "needs_background": "light"
     },
     "output_type": "display_data"
    }
   ],
   "source": [
    "plt.figure(figsize=(10, 5))\n",
    "plt.bar(top_10_hottest[\"City\"], top_10_hottest[\"Temperature\"],color='g',label='Temperature (°C)')\n",
    "plt.xlabel(\"City\")\n",
    "plt.yticks(rotation=45)\n",
    "plt.xticks(rotation=45)\n",
    "plt.ylabel(\"Temperature (°C)\")\n",
    "plt.title(\"Top 10 Hottest Cities\")\n",
    "plt.legend()\n",
    "plt.show()"
   ]
  },
  {
   "cell_type": "code",
   "execution_count": 22,
   "id": "4342542b",
   "metadata": {},
   "outputs": [
    {
     "data": {
      "image/png": "[encoded data removed]",
      "text/plain": [
       "<Figure size 720x360 with 1 Axes>"
      ]
     },
     "metadata": {
      "needs_background": "light"
     },
     "output_type": "display_data"
    }
   ],
   "source": [
    "plt.figure(figsize=(10, 5))\n",
    "plt.bar(top_10_coldest[\"City\"], top_10_coldest[\"Temperature\"], label='Temperature (°C)')\n",
    "plt.xlabel(\"City\")\n",
    "plt.yticks(rotation=45)\n",
    "plt.xticks(rotation=45)\n",
    "plt.ylabel(\"Temperature (°C)\")\n",
    "plt.title(\"Top 10 Coldest Cities\")\n",
    "plt.legend()\n",
    "plt.show()\n"
   ]
  },
  {
   "cell_type": "code",
   "execution_count": 23,
   "id": "c6166776",
   "metadata": {},
   "outputs": [],
   "source": [
    "hottest_city = df.loc[df[\"Temperature\"].idxmax()]\n",
    "coldest_city = df.loc[df[\"Temperature\"].idxmin()]"
   ]
  },
  {
   "cell_type": "code",
   "execution_count": 24,
   "id": "33a8b810",
   "metadata": {},
   "outputs": [
    {
     "name": "stdout",
     "output_type": "stream",
     "text": [
      "Hottest City: Rio de Janeiro (33.0°C)\n",
      "Coldest City: Chicago (-15.5°C)\n"
     ]
    }
   ],
   "source": [
    "print(f\"Hottest City: {hottest_city['City']} ({hottest_city['Temperature']}°C)\")\n",
    "print(f\"Coldest City: {coldest_city['City']} ({coldest_city['Temperature']}°C)\")"
   ]
  },
  {
   "cell_type": "code",
   "execution_count": null,
   "id": "5177ff86",
   "metadata": {},
   "outputs": [],
   "source": []
  }
 ],
 "metadata": {
  "kernelspec": {
   "display_name": "Python 3 (ipykernel)",
   "language": "python",
   "name": "python3"
  },
  "language_info": {
   "codemirror_mode": {
    "name": "ipython",
    "version": 3
   },
   "file_extension": ".py",
   "mimetype": "text/x-python",
   "name": "python",
   "nbconvert_exporter": "python",
   "pygments_lexer": "ipython3",
   "version": "3.9.7"
  }
 },
 "nbformat": 4,
 "nbformat_minor": 5
}
